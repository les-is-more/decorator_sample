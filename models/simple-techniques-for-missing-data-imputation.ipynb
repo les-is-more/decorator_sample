{
 "cells": [
  {
   "cell_type": "markdown",
   "metadata": {
    "_cell_guid": "b1076dfc-b9ad-4769-8c92-a6c4dae69d19",
    "_uuid": "8f2839f25d086af736a60e9eeb907d3b93b6e0e5"
   },
   "source": [
    "# Simple techniques for missing data imputation\n",
    "\n",
    "## Background\n",
    "\n",
    "Missing data is a well-known problem in data science. A broad class of datasets will suffer from the problem that some to a lot of data entries in the dataset will not be complete, e.g. they will not have values present for every single variable in the dataset.\n",
    "\n",
    "To motivate this problem, here's one example of a dataset with such a problem&mdash;the Brewer's Friend beer recipes dataset:"
   ]
  },
  {
   "cell_type": "code",
   "execution_count": 5,
   "metadata": {
    "_cell_guid": "79c7e3d0-c299-4dcb-8224-4455121ee9b0",
    "_uuid": "d629ff2d2480ee46fbb7e2d37f6b5fab8052498a",
    "collapsed": true
   },
   "outputs": [],
   "source": [
    "import pandas as pd\n",
    "pd.set_option('max_columns', None)\n",
    "df = pd.read_csv(\"../input/recipeData.csv\", encoding='latin-1').set_index(\"BeerID\")"
   ]
  },
  {
   "cell_type": "code",
   "execution_count": 6,
   "metadata": {
    "_cell_guid": "f5f37c15-bb4d-4adf-ac2c-a282e764b4a3",
    "_uuid": "0e4e944d08c49215463e43016b1d7277b6a92f44"
   },
   "outputs": [],
   "source": [
    "import missingno as msno\n",
    "import matplotlib.pyplot as plt\n",
    "msno.bar(df, figsize=(12, 6), fontsize=12, color='steelblue')"
   ]
  },
  {
   "cell_type": "markdown",
   "metadata": {
    "_cell_guid": "2c1fd77f-abbd-40e3-8721-7a0eb29a18e7",
    "_uuid": "d3b388ed7da5370289d77fcfe62936fd8f7ffa3a"
   },
   "source": [
    "## Data missing at random and not at random\n",
    "\n",
    "Most machine learning algorithms (kNN is a notable exception) cannot deal with this problem intrinsically, as they are designed for complete data. Something needs to be done with the missing data values.\n",
    "\n",
    "There are two broad classes of missing data: data missing at random, and data missing not at random. When considering what to do with our data we must keep this in mind. I won't go into detail here because I wrote an entire blog post on this subject once upon a time, which is worthwhile reading on the subject:  http://www.residentmar.io/2016/06/12/null-and-missing-data-python.html. The typology of the missing data strongly informs how best to approach dealing with it; or rather it's safer to say that if the data is missing not completely at random, you are going to need domain expertise to understand what to do with it:\n",
    "\n",
    "> If the data are truly NMAR, then the missing data mechanism must be modeled as part of the estimation process in order to produce unbiased parameter estimates. That means that, if there is missing data on Y, one must specify how the probability that Y is missing depends on Y and on other variables. This is not straightforward because there are an infinite number of different models that one could specify. Nothing in the data will indicate which of these models is correct. And, unfortunately,\n",
    "results could be highly sensitive to the choice of model. A good deal of research has been devoted to the problem of data that are not missing at random, and some progress has been made. Unfortunately, the available methods are rather complex, even for very simple situations. \n",
    "\n",
    "From [this paper](http://www.statisticalhorizons.com/wp-content/uploads/MissingDataByML.pdf): \"Handling Missing Data by Maximum Likelihood\"&mdash;Paul D. Allison, Statistical Horizons, Haverford, PA, USA ."
   ]
  },
  {
   "cell_type": "markdown",
   "metadata": {
    "_cell_guid": "efdc7c6f-e479-41f3-be1e-98921b20b01c",
    "_uuid": "788f5c6853da30638bec8fab8d08665054d5caef"
   },
   "source": [
    "## Simple approaches\n",
    "\n",
    "A number of simple approaches exist. For basic use cases, these are often enough.\n",
    "\n",
    "** Dropping rows with null values**\n",
    "\n",
    "The easiest and quickest approach to a missing data problem is dropping the offending entries. This is an acceptable solution if we are confident that the missing data in the dataset is missing at random, and if the number of data points we have access to is sufficiently high that dropping some of them will not cause us to lose generalizability in the models we build (to determine whether or not this is case, use a learning curve).\n",
    "\n",
    "Dropping data missing not at random is dangerous. It will result in significant bias in your model in cases where data being absent corresponds with some real-world phenomenon. Because this requires domain knowledge, usually the only way to determine if this is a problem is through manual inspection.\n",
    "\n",
    "Dropping too much data is also dangerous. It can create significant bias by depriving your algorithms of space. This is especially true of classifiers sensitive to the curse of dimensionality. For example, for this beer dataset we might not want to simply blindly drop everything, as this would result in very few samples:"
   ]
  },
  {
   "cell_type": "code",
   "execution_count": 7,
   "metadata": {
    "_cell_guid": "63fe1573-053c-41b1-9444-07f79a0ba3e3",
    "_uuid": "23ed5e39235686ecd629a547c4cdec5fe264b566"
   },
   "outputs": [],
   "source": [
    "len(df), len(df.dropna())"
   ]
  },
  {
   "cell_type": "markdown",
   "metadata": {
    "_cell_guid": "1e448138-e248-4368-9d4f-2b11e7a57e40",
    "_uuid": "8e2bdd465a70fec8b495fe840f6af077d943ca53"
   },
   "source": [
    "Certain types of datasets will suffer from \"almost complete\" columns&mdash;e.g. columns which are missing values in a relatively small number of cases. In these cases dropping the offending records is usually fine, with the level of how OK it is depending on how close to complete the column is. This is convenient because it removes that column from the list of things you need to deal with before you can start learning.\n",
    "\n",
    "**Dropping features with high nullity**\n",
    "\n",
    "A feature that has a high number of empty values is unlikely to be very useful for prediction. It can often be safely dropped. For example in the beer dataset I would drop `PrimingMethod` and `PrimingAmount`; and consider dropping a couple of others as well.\n",
    "\n",
    "Dropping rare features simplifies your model, but obviously gives you fewer features to work with. Before dropping features outright, consider subsetting the part of the dataset that this value is available for and checking its feature importance when it is used to train a model in this subset. If in doing so you disover that the variable is important in the subset it is defined, consider making an effort to retain it."
   ]
  },
  {
   "cell_type": "code",
   "execution_count": 8,
   "metadata": {
    "_cell_guid": "fae86abc-651f-4fd0-96b7-adfdb4e9ec5a",
    "_uuid": "85e13f159ce510a3d30b6427ca8cb683704c1093",
    "collapsed": true
   },
   "outputs": [],
   "source": [
    "# Here's a short recipe for a variable importance check:\n",
    "\n",
    "# from sklearn.tree import DecisionTreeClassifier\n",
    "# from yellowbrick.features import FeatureImportances\n",
    "\n",
    "# clf = DecisionTreeClassifier()\n",
    "# viz = FeatureImportances(clf)\n",
    "# viz.fit(X_sample, y_sample)\n",
    "# viz.poof()"
   ]
  },
  {
   "cell_type": "code",
   "execution_count": 9,
   "metadata": {
    "_cell_guid": "1c86ab4e-ad56-4190-836f-4b614c5becd1",
    "_uuid": "93373fd78f4019770d2d4bf6e05ebbda12b073ec"
   },
   "outputs": [],
   "source": [
    "df.shape[1], df.drop(['PrimingMethod', 'PrimingAmount'], axis='columns').shape[1]"
   ]
  },
  {
   "cell_type": "markdown",
   "metadata": {
    "_cell_guid": "e662e3fe-ba2f-4602-985a-82c80fa60248",
    "_uuid": "f09db1d6893bbf349da2c059c08ee4d007a1b436"
   },
   "source": [
    "**Mean or median or other summary statistic substitution**\n",
    "\n",
    "The remainder of the techniques available are imputation methods, as opposed to data-dropping methods. The simplest imputation method is replacing missing values with the mean or median values of the dataset at large, or some similar summary statistic. This has the advantage of being the simplest possible approach, and one that doesn't introduce any undue bias into the dataset. But:\n",
    "\n",
    "> [However] with missing values that are not strictly random, especially in the presence of a great inequality in the number of missing values for the different variables, the mean substitution method may lead to inconsistent bias. Furthermore, this approach adds no new information but only increases the sample size and leads to an underestimate of the errors. Thus, mean substitution is not generally accepted.\n",
    "\n",
    "From [here](https://www.ncbi.nlm.nih.gov/pmc/articles/PMC3668100/)."
   ]
  },
  {
   "cell_type": "code",
   "execution_count": 10,
   "metadata": {
    "_cell_guid": "c4f288d0-0834-42f6-b373-1aa6b36ce752",
    "_uuid": "c5978c0216b86c6591ba07b563c118e7438bdc09"
   },
   "outputs": [],
   "source": [
    "df['MashThickness'].isnull().sum(), df['MashThickness'].fillna(df['MashThickness'].mean()).isnull().sum()"
   ]
  },
  {
   "cell_type": "code",
   "execution_count": 11,
   "metadata": {
    "_cell_guid": "ece3c6bc-f242-4551-80fe-aa13d0a0cf4f",
    "_uuid": "374c7e226a22d7a960f9b7eaff09c9bf51184f87"
   },
   "outputs": [],
   "source": [
    "df['MashThickness'].mean(), df['MashThickness'].fillna(df['MashThickness'].mean()).mean()"
   ]
  },
  {
   "cell_type": "markdown",
   "metadata": {
    "_cell_guid": "5a29fcc7-9b28-447d-b169-5b2461f20494",
    "_uuid": "10640cb573cd4f593a0f41e745c8e04abaa56de9"
   },
   "source": [
    "## Model imputation\n",
    "\n",
    "Here's a fun trick. To prepare a dataset for machine learning we need to fix missing values, and we can fix missing values by applying machine learning to that dataset! If we consider a column with missing data as our target variable, and existing columns with complete data as our predictor variables, then we may construct a machine learning model using complete records as our train and test datasets and the records with incomplete data as our generalization target. This is a fully scoped-out machine learning problem."
   ]
  },
  {
   "cell_type": "code",
   "execution_count": 12,
   "metadata": {
    "_cell_guid": "41cac378-382e-4457-9d98-bd0dddfd08bd",
    "_uuid": "758b592ca54ebe0829b409d6598deac571939e4d",
    "collapsed": true,
    "scrolled": false
   },
   "outputs": [],
   "source": [
    "# Format the data for applying ML to it.\n",
    "popular_beer_styles = (pd.get_dummies(df['Style']).sum(axis='rows') > (len(df) / 100)).where(lambda v: v).dropna().index.values\n",
    "\n",
    "dfc = (df\n",
    "       .drop(['PrimingMethod', 'PrimingAmount', 'UserId', 'PitchRate', 'PrimaryTemp', 'StyleID', 'Name', 'URL'], axis='columns')\n",
    "       .dropna(subset=['BoilGravity'])\n",
    "       .pipe(lambda df: df.join(pd.get_dummies(df['BrewMethod'], prefix='BrewMethod')))\n",
    "       .pipe(lambda df: df.join(pd.get_dummies(df['SugarScale'], prefix='SugarScale')))       \n",
    "       .pipe(lambda df: df.assign(Style=df['Style'].map(lambda s: s if s in popular_beer_styles else 'Other')))\n",
    "       .pipe(lambda df: df.join(pd.get_dummies(df['Style'], prefix='Style')))       \n",
    "       .drop(['BrewMethod', 'SugarScale', 'Style'], axis='columns')\n",
    "      )\n",
    "\n",
    "c = [c for c in dfc.columns if c != 'MashThickness']\n",
    "X = dfc[dfc['MashThickness'].notnull()].loc[:, c].values\n",
    "y = dfc[dfc['MashThickness'].notnull()]['MashThickness'].values\n",
    "yy = dfc[dfc['MashThickness'].isnull()]['MashThickness'].values"
   ]
  },
  {
   "cell_type": "code",
   "execution_count": 13,
   "metadata": {
    "_cell_guid": "d7ee5313-1764-4e15-bf20-72dd9302ebee",
    "_uuid": "11dd0b51cce59b1e8a3d0fede0bc00f2d5d45d94"
   },
   "outputs": [],
   "source": [
    "# Apply a regression approach to imputing the mash thickness.\n",
    "from sklearn.linear_model import LinearRegression\n",
    "from sklearn.model_selection import KFold\n",
    "from sklearn.metrics import r2_score\n",
    "\n",
    "import numpy as np\n",
    "np.random.seed(42)\n",
    "kf = KFold(n_splits=4)\n",
    "scores = []\n",
    "for train_index, test_index in kf.split(X):\n",
    "    X_train, X_test = X[train_index], X[test_index]\n",
    "    y_train, y_test = y[train_index], y[test_index]\n",
    "    \n",
    "    clf = LinearRegression()\n",
    "    clf.fit(X_train, y_train)\n",
    "    y_test_pred = clf.predict(X_test)\n",
    "    \n",
    "    scores.append(r2_score(y_test, y_test_pred))\n",
    "\n",
    "print(scores)"
   ]
  },
  {
   "cell_type": "markdown",
   "metadata": {
    "_cell_guid": "aabed852-2060-4173-8b70-57eee722cd07",
    "_uuid": "983689da03df5dd086894dc2693ffca3cc23c144",
    "collapsed": true
   },
   "source": [
    "The $R^2$ score measures how much better than baseline linear regression performs, where baseline is flat regression against the mean. In this case that baseline performance (an $R^2$ of 0) is the performance of replacing the missing values with the mean of the observed values. In this specific case the extremely low cross validation scores, all indistinguishable from 0, basically tells us that we've picked an impossible task: `MashThickness` cannot be determined with any accuracy from another of the other variables in the dataset (at least, if it can, then the relationship is non-linear&mdash;doubtful in this scenario). This cuts both ways, of course&mdash;if none of the variables in the dataset predict `MashThickness`, then `MashThickness` is useless for predicting anything any of them either!\n",
    "\n",
    "Nevertheless, for more usefully correlated columns this template of using a model of some kind to impute the column values is highly useful and makes a lot of sense from a practitioner's perspecive.\n",
    "\n",
    "[This paper](https://www.ncbi.nlm.nih.gov/pmc/articles/PMC3668100/) has the following to say about this technique (which it refers to as \"regression imputation\"; but, strictly speaking, it doesn't have to be regression):\n",
    "\n",
    "> This approach has a number of advantages, because the imputation retains a great deal of data over the listwise or pairwise deletion and avoids significantly altering the standard deviation or the shape of the distribution. However, as in a mean substitution, while a regression imputation substitutes a value that is predicted from other variables, no novel information is added, while the sample size has been increased and the standard error is reduced.\n",
    "\n",
    "In other words, this technique will still tend to increase the bias of the dataset, just less so (in success cases) than naively using the mean or median value would.\n",
    "\n",
    "If you are looking for some other models to try, the [`fancyimpute`](https://github.com/iskandr/fancyimpute) package contains a number of (mostly matrix-based, e.g. linear algebraic) models specifically tuned for imputation tasks.\n",
    "\n",
    "## Semi-supervised learning\n",
    "\n",
    "You can use a set of techniques known as \"semi-supervised learning\" to attack missing data imputation. From my notes on the subject:\n",
    "\n",
    "> For some kinds of data you will run into the problem of having many samples, but not having labels for all of those samples, only for a subset of them. This situation occurs particularly often in research contexts, where it's often easy to get a small number of labelled data points, via hand-labelling, but significantly harder to gather the full dataset, if the full dataset is sufficiently large.\n",
    "> \n",
    "> This is known as the **semi-supervised learning problem**. It is semi-supervised because it lies in between unsupervised learning, which does not use labels, and supervised learning, which requires them. In a semi-supervised learning problem you don't have all the labels or none of them, only some of them.\n",
    ">\n",
    "> Semi-supervised learning is a restatement of the missing data imputation problem which is specific to the small-sample, missing-label case. This problem gets its own name likely because it is so commonly encountered in research and dataset generation contexts. It's a useful tool to know about more generally for missing data imputation from a limited sample size, but the algorithms have poor performance characteristics for larger samples. In those cases, perhaps try applying machine learning to the problem directly.\n",
    "\n",
    "To learn more about semi-supervised learning, check out the notebook [\"Notes on semi-supervised learning\"](https://www.kaggle.com/residentmario/notes-on-semi-supervised-learning/). The TLDR is that these techniques are an approach that works well when the number of labeled is extremely small, but do not scale to larger data because they involve building a similarity matrix, an $O(n^2)$ operation.\n",
    "\n",
    "## Maximum likelihood imputation\n",
    "\n",
    "Simple approaches are easy to implement, but can lead to high bias. The model imputation approach is a bit more challenging, but it's still off-the-shelf, and it does still have a problem with introducing bias into the dataset. In fact, [this paper](http://www.statisticalhorizons.com/wp-content/uploads/MissingDataByML.pdf) on the subject goes so far as to say that really you _ought_ to be using either of two specialized techniques: maximum likelihood, or multiple imputation.\n",
    "\n",
    "In statistics the **maximum likelihood estimator** is any statistical estimator for a distribution of interest which has the property that it maximizes the \"likelihood function\" of that data.\n",
    "\n",
    "Recall that a statistical estimator takes a random sample of data and attempts to explain something about the overall distribution by generalizing from that sample. For example, $\\frac{\\sum(y)}{\\text{len}(y)}$ is an estimator for the average of a set of data $y$. It is MLE because it doesn't have any bias: it converges on the true mean of the distribution (given a large enough number of samples). For most problems an MLE estimator is the simplest estimator to build. But sometimes an MLE estimator is not possible, and in other cases some amount of bias in the estimator is useful (if you know something the model doesn't; see e.g. regularization).\n",
    "\n",
    "Maximum likelihood imputation is maximum likelihood estimation applied to missing data. First, build a maximum likelihood estimator with the complete records in the dataset as your predictor variables and the variable containing missing values your target. Then, for each record containing missing data, draw a value from the distribution you generated, one parameterized with the known dependent values of the data.\n",
    "\n",
    "This purely statistical approach to this problem has the drawback of statistical models more generally in that it is dependent on the probability distribution you use in your estimator. If you expect the data is normally distributed, you may fit a normal distribution to the data. If it's Bernoulli you can fit a Bernoulli distribution. If it's a combination of different distributions, then you have to build a multimodal distribution!\n",
    "\n",
    "For this reason there is no \"standard\" maximum likelihood estimator imputation technique. Instead, qouting from [this excellent CrossValidated answer](https://stats.stackexchange.com/questions/51006/full-information-maximum-likelihood-for-missing-data-in-r):\n",
    "\n",
    "> Handling missing data with Maximum Likelihood on all available data (so-called FIML) is a very useful technique. However, there are a number of complications that make it challenging to implement in a general way.\n",
    "> \n",
    "> Consider a simple linear regression model, predicting some continuous outcome from say age, sex, and occupation type. In OLS, you do not worry about the distribution of age, sex, and occupation, only the outcome. Typically for categorical predictors, they are dummy coded (0/1). To use ML, distributional assumptions are required for all variables with missingness. By far the easiest approach is multivariate normal (MVN). This is what for example Mplus will do by default if you do not go out for your way to declare the type of variable (e.g., categorical).\n",
    "> \n",
    "> In the simple example I gave, you would probably want to assume, normal for age, Bernoulli for sex, and multinomal for job type. The latter is tricky because what you actually have are several binary variables, but you do not want to treat them as Bernoulli. This means you do not want to work with the dummy coded variables, you need to work with the actual categorical variable so the ML estimators can properly use a multinomial, but this in turn means that the dummy coding process needs to be built into the model, not the data. Again complicating life.\n",
    "> \n",
    "> Further, the joint distribution of continuous and categorical variables is nontrivial to compute (when I run into problems like this in Mplus, it pretty quickly starts to break down and struggle). Finally, you really ideally specify the missing data mechanism. In SEM style, FIML, all variables are essentially conditioned on all others, but this is not necessarily correct.\n",
    "> \n",
    "> For example, perhaps age is missing as a function not of gender and occupation type, but their interaction. The interaction may not be important for the focal outcome, but if it is important for missingness on age, then it must also be in the model, not necessarily the substantive model of interest but the missing data model.\n",
    "\n",
    "I don't know of any off-the-shelf maximum likelihood imputation algorithms in Python, for precisely this reason.\n",
    "\n",
    "The most flexible possible solution for modeling the distribution of data is kernel density estimation. `sklearn` includes [raw kernel density estimator algorithms](http://scikit-learn.org/stable/modules/density.html) available. I might suggest starting there. Otherwise, if you want to go the statistical estimator route, the `statsmodel` package includes facilities for working with all of the most common types of statistical distributions.\n",
    "\n",
    "## Multiple imputation\n",
    "\n",
    "All of the techniques discussed so far are what one might call \"single imputation\": each value in the dataset is filled in exactly once. In general, the limitation with single imputation is that because these techniques find maximally likely values, they do not generate entries which accurately reflect the distribution of the underlying data.\n",
    "\n",
    "Take the extreme case of replacing missing values in the data with the mean value, for example. If we had been able to observe the data we were missing, we would naturally expect to see some variability in it: extreme values, outliers, and records which do not completely fit the \"pattern\" of the data. This noise is intrinsic to the dataset, yet mean value replacement makes no attempt to represent it in its result. This leads to bias in any downstream models, which are exposed to a trend (the presence of the mean value in the datset) which does not exist in the underlying data. This in turn decreases accuracy during both the train and test phases.\n",
    "\n",
    "In the statistical literature, arguably the most advanced methodology for performing missing data imputation is **multiple imputation**. In multiple imputation we generate missing values from the dataset many times. The individual datasets are then pooled together into the final imputed dataset, with the values chosen to replace the missing data being drawn from the combined results in some way. In other words, multiple imputation breaks imputation out into three steps: imputation (multiple times), analysis (staging how the results should be combined), and pooling (integrating the results into the final imputed matrix).\n",
    "\n",
    "Any technique that follows this general framework is a multiple imputation technique. As such, there are a variety of multiple imputation algorithms and implementations available. The most popular algorithm is called MICE, and a Python implementation thereof is available as part of the `fancyimpute` package: https://github.com/iskandr/fancyimpute.\n",
    "\n",
    "\n",
    "1. A simple imputation, such as imputing the mean, is performed for every missing value in the dataset. These mean imputations can be thought of as “place holders.”\n",
    "\n",
    "2. The “place holder” mean imputations for one variable (“var”) are set back to missing.\n",
    "\n",
    "3. The observed values from the variable “var” in Step 2 are regressed on the other variables in the imputation model, which may or may not consist of all of the variables in the dataset. In other words, “var” is the dependent variable in a regression model and all the other variables are independent variables in the regression model.\n",
    "\n",
    "4. The missing values for “var” are then replaced with predictions (imputations) from the regression model. When “var” is subsequently used as an independent variable in the regression models for other variables, both the observed and these imputed values will be used.\n",
    "\n",
    "5. Steps 2–4 are then repeated for each variable that has missing data. The cycling through each of the variables constitutes one iteration or “cycle.” At the end of one cycle all of the missing values have been replaced with predictions from regressions that reflect the relationships observed in the data.\n",
    "\n",
    "6. Steps 2 through 4 are repeated for a number of cycles, with the imputations being updated at each cycle. At the end of these cycles the final imputations are retained, resulting in one imputed dataset. Generally, ten cycles are performed; however, research is needed to identify the optimal number of cycles when imputing data under different conditions. The idea is that by the end of the cycles the distribution of the parameters governing the imputations (e.g., the coefficients in the regression models) should have converged in the sense of becoming stable.\n",
    "\n",
    "\n",
    "Here is the recipe for imputation using `fancyimpute.MICE`:"
   ]
  },
  {
   "cell_type": "code",
   "execution_count": 22,
   "metadata": {
    "_uuid": "01b51098333cd8eb4bb92a87b281da67c41bbe05"
   },
   "outputs": [],
   "source": [
    "from fancyimpute import MICE\n",
    "\n",
    "trans = MICE()\n",
    "trans.complete"
   ]
  },
  {
   "cell_type": "markdown",
   "metadata": {
    "_uuid": "26c8b5194eab9caac9753b6d725979700ce3cbc3"
   },
   "source": [
    "Note that a `fill_method` can pre-seed the dataset with `mean`, `median`, or `random`. `mean` is the default, but if the dataset includes highly skewed columns, the latter two options may be of interest.\n",
    "\n",
    "Not included in this readout is the model being used. By default `fancyimpute` uses its own Bayesian ridge regression implementation, interestingly enough. Here's the docstring:\n",
    "\n",
    "         model : predictor function\n",
    "        A model that has fit, predict, and predict_dist methods.\n",
    "        Defaults to BayesianRidgeRegression(lambda_reg=0.001).\n",
    "        Note that the regularization parameter lambda_reg\n",
    "        is by default scaled by np.linalg.norm(np.dot(X.T,X)).\n",
    "        Sensible lambda_regs to try: 0.25, 0.1, 0.01, 0.001, 0.0001.\n",
    "        \n",
    "This is essentially a Bayesian implementation of `sklearn.linear_model.Ridge`.  `lambda_reg` is equivalent to the `alpha` parameter thereof. `fit`, `predict`, and `predict_dist` are standard properties of most `sklearn` model algorithms, so a wide range of built-ins may be used by this package! But a weakly penalized `Ridge` regressor is the package author's (reasonable) default.\n",
    "\n",
    "Now for running the procedure itself:"
   ]
  },
  {
   "cell_type": "code",
   "execution_count": 57,
   "metadata": {
    "_uuid": "3491980f86979a3452127cfebcd2d7037e0eaed4",
    "scrolled": true
   },
   "outputs": [],
   "source": [
    "from sklearn.datasets import make_classification\n",
    "import numpy as np\n",
    "import matplotlib.pyplot as plt\n",
    "import pandas as pd\n",
    "\n",
    "# Create a sample point cloud.\n",
    "X, y = make_classification(n_samples=5000, n_features=2, n_informative=2,\n",
    "                           n_redundant=0, n_repeated=0, n_classes=3,\n",
    "                           n_clusters_per_class=1,\n",
    "                           weights=[0.05, 0.10, 0.85],\n",
    "                           class_sep=2, random_state=0)\n",
    "\n",
    "# Select indices to drop labels from.\n",
    "X_l = X.shape[0]\n",
    "np.random.seed(42)\n",
    "unl_idx = np.random.randint(0, len(X), size=X_l - 500)\n",
    "\n",
    "# Back the labels up and drop them.\n",
    "y = y.astype('float64')\n",
    "X_train, y_train = X[unl_idx].copy(), y[unl_idx].copy()\n",
    "X[unl_idx] = np.nan\n",
    "y[unl_idx] = np.nan\n",
    "\n",
    "# The fancyimpute package takes a single combined matrix as input. It differs in this from the X feature matrix, y response vector style of sklearn.\n",
    "f = np.hstack((X, y[:, None]))\n",
    "\n",
    "# Impute the missing values.\n",
    "from fancyimpute import MICE\n",
    "trans = MICE(verbose=False)\n",
    "f_complete = trans.complete(f)"
   ]
  },
  {
   "cell_type": "code",
   "execution_count": 45,
   "metadata": {
    "_uuid": "918285efa9c96f7649b944fc4081d8f4b839c558"
   },
   "outputs": [],
   "source": [
    "(f_complete == np.nan).any()"
   ]
  },
  {
   "cell_type": "markdown",
   "metadata": {
    "_uuid": "bb738ae26b9fc63a4ed06dee506c484ea12f379e"
   },
   "source": [
    "Success!\n",
    "\n",
    "That concludes this notebook. Hopefully you find this information insightful!"
   ]
  }
 ],
 "metadata": {
  "kernelspec": {
   "display_name": "Python 3",
   "language": "python",
   "name": "python3"
  },
  "language_info": {
   "codemirror_mode": {
    "name": "ipython",
    "version": 3
   },
   "file_extension": ".py",
   "mimetype": "text/x-python",
   "name": "python",
   "nbconvert_exporter": "python",
   "pygments_lexer": "ipython3",
   "version": "3.7.5"
  }
 },
 "nbformat": 4,
 "nbformat_minor": 1
}
